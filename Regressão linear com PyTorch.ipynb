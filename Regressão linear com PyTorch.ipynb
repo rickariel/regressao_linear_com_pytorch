{
 "cells": [
  {
   "cell_type": "code",
   "execution_count": null,
   "id": "ef9f731d-f589-45cc-922c-490441f2fa49",
   "metadata": {},
   "outputs": [],
   "source": []
  }
 ],
 "metadata": {
  "kernelspec": {
   "display_name": "",
   "name": ""
  },
  "language_info": {
   "name": ""
  }
 },
 "nbformat": 4,
 "nbformat_minor": 5
}
